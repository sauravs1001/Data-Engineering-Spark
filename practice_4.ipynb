{
  "nbformat": 4,
  "nbformat_minor": 0,
  "metadata": {
    "colab": {
      "name": "practice-4.ipynb",
      "provenance": [],
      "collapsed_sections": [],
      "authorship_tag": "ABX9TyMcANQ31uEtouZndkbKtU+l",
      "include_colab_link": true
    },
    "kernelspec": {
      "name": "python3",
      "display_name": "Python 3"
    },
    "language_info": {
      "name": "python"
    }
  },
  "cells": [
    {
      "cell_type": "markdown",
      "metadata": {
        "id": "view-in-github",
        "colab_type": "text"
      },
      "source": [
        "<a href=\"https://colab.research.google.com/github/sauravs1001/Data-Engineering-Spark/blob/main/practice_4.ipynb\" target=\"_parent\"><img src=\"https://colab.research.google.com/assets/colab-badge.svg\" alt=\"Open In Colab\"/></a>"
      ]
    },
    {
      "cell_type": "code",
      "metadata": {
        "id": "g8nAI4GQGGNa"
      },
      "source": [
        "!wget https://dlcdn.apache.org/spark/spark-3.1.2/spark-3.1.2-bin-hadoop3.2.tgz\n",
        "!tar -xvf spark-3.1.2-bin-hadoop3.2.tgz\n",
        "!pip install findspark\n",
        "import os\n",
        "os.environ[\"JAVA_HOME\"] = \"/usr/lib/jvm/java-11-openjdk-amd64\"\n",
        "os.environ[\"SPARK_HOME\"] = \"/content/spark-3.1.2-bin-hadoop3.2\"\n",
        "import findspark\n",
        "findspark.init()\n"
      ],
      "execution_count": null,
      "outputs": []
    },
    {
      "cell_type": "code",
      "metadata": {
        "id": "47JmlBLnGKRQ"
      },
      "source": [
        "from pyspark.sql import SparkSession\n",
        "from pyspark import SparkContext"
      ],
      "execution_count": 2,
      "outputs": []
    },
    {
      "cell_type": "code",
      "metadata": {
        "id": "assdfDCJGP3L"
      },
      "source": [
        "spark = SparkSession.builder.master(\"local[*]\").appName(\"practice4\").getOrCreate()"
      ],
      "execution_count": 3,
      "outputs": []
    },
    {
      "cell_type": "code",
      "metadata": {
        "id": "kkFoID3QGWPR"
      },
      "source": [
        "sc = spark.sparkContext"
      ],
      "execution_count": 4,
      "outputs": []
    },
    {
      "cell_type": "code",
      "metadata": {
        "id": "252yqxQ2ad7u"
      },
      "source": [
        "input = sc.textFile('customerorders-201008-180523.csv')"
      ],
      "execution_count": 5,
      "outputs": []
    },
    {
      "cell_type": "code",
      "metadata": {
        "id": "0EKnn9JlddmL"
      },
      "source": [
        "rdd1 = input.map(lambda x:(float(x.split(\",\")[0]), float(x.split(\",\")[2]))).reduceByKey(lambda x,y : x+ y).sortBy(lambda x:x[1], False)"
      ],
      "execution_count": 29,
      "outputs": []
    },
    {
      "cell_type": "code",
      "metadata": {
        "colab": {
          "base_uri": "https://localhost:8080/"
        },
        "id": "nl8hQ5pRdxXt",
        "outputId": "90f1b900-c8fc-4b74-e5a3-bfc5f959d250"
      },
      "source": [
        "rdd1.take(10)"
      ],
      "execution_count": 30,
      "outputs": [
        {
          "output_type": "execute_result",
          "data": {
            "text/plain": [
              "[(68.0, 6375.450000000001),\n",
              " (73.0, 6206.200000000001),\n",
              " (39.0, 6193.110000000001),\n",
              " (54.0, 6065.390000000001),\n",
              " (71.0, 5995.660000000002),\n",
              " (2.0, 5994.59),\n",
              " (97.0, 5977.1900000000005),\n",
              " (46.0, 5963.109999999999),\n",
              " (42.0, 5696.840000000002),\n",
              " (59.0, 5642.889999999999)]"
            ]
          },
          "metadata": {},
          "execution_count": 30
        }
      ]
    },
    {
      "cell_type": "markdown",
      "metadata": {
        "id": "JYvpDsusm6jT"
      },
      "source": [
        ""
      ]
    },
    {
      "cell_type": "markdown",
      "metadata": {
        "id": "CBEnLNE2m9VW"
      },
      "source": [
        ""
      ]
    },
    {
      "cell_type": "markdown",
      "metadata": {
        "id": "zR2Q2MeJmmV5"
      },
      "source": [
        "\n",
        "\n",
        "---\n",
        "\n",
        "\n",
        "\n",
        "# **Below codes are for movie rating problem**\n",
        "\n",
        "---\n",
        "\n"
      ]
    },
    {
      "cell_type": "code",
      "metadata": {
        "id": "gAOCiL2Gd_AA"
      },
      "source": [
        "input1 = sc.textFile('moviedata-201008-180523.data')"
      ],
      "execution_count": 41,
      "outputs": []
    },
    {
      "cell_type": "code",
      "metadata": {
        "id": "DThYx6wonK5P"
      },
      "source": [
        "rdd11 = input1.map(lambda x: x.split(\"\\t\")[2]).map(lambda x:(x,1)).reduceByKey(lambda x,y : x+y).sortBy(lambda x: x[1], False)"
      ],
      "execution_count": 36,
      "outputs": []
    },
    {
      "cell_type": "code",
      "metadata": {
        "colab": {
          "base_uri": "https://localhost:8080/"
        },
        "id": "XaLBP4U-n6y3",
        "outputId": "ed040d21-db1e-43c2-e62c-45a742befbe0"
      },
      "source": [
        "for i in rdd11.collect():\n",
        "  print(f\"{i[1]} Number of people gave \\\"{i[0]}\\\" rating \")"
      ],
      "execution_count": 40,
      "outputs": [
        {
          "output_type": "stream",
          "name": "stdout",
          "text": [
            "34174 Number of people gave \"4\" rating \n",
            "27145 Number of people gave \"3\" rating \n",
            "21201 Number of people gave \"5\" rating \n",
            "11370 Number of people gave \"2\" rating \n",
            "6110 Number of people gave \"1\" rating \n"
          ]
        }
      ]
    },
    {
      "cell_type": "code",
      "metadata": {
        "id": "PiJLSm4Wn87Z"
      },
      "source": [
        "rdd12 = input1.map(lambda x: x.split(\"\\t\")[2])"
      ],
      "execution_count": 45,
      "outputs": []
    },
    {
      "cell_type": "code",
      "metadata": {
        "id": "yt9L_SwhqeI4"
      },
      "source": [
        "results = rdd12.countByValue().items()"
      ],
      "execution_count": 52,
      "outputs": []
    },
    {
      "cell_type": "code",
      "metadata": {
        "colab": {
          "base_uri": "https://localhost:8080/"
        },
        "id": "NCZ9ZzC0qgyp",
        "outputId": "3c5b7b9a-6e2d-4f34-da89-1ed423f68c8d"
      },
      "source": [
        "for i in sorted(results, key=lambda x: x[1], reverse=True):\n",
        "  print(i)"
      ],
      "execution_count": 59,
      "outputs": [
        {
          "output_type": "stream",
          "name": "stdout",
          "text": [
            "('4', 34174)\n",
            "('3', 27145)\n",
            "('5', 21201)\n",
            "('2', 11370)\n",
            "('1', 6110)\n"
          ]
        }
      ]
    },
    {
      "cell_type": "markdown",
      "metadata": {
        "id": "vzRH9Co7tYNy"
      },
      "source": [
        "\n",
        "\n",
        "---\n",
        "\n",
        "\n",
        "\n",
        "# **Below Code for Frieds data problem**\n",
        "\n",
        "---\n",
        "\n"
      ]
    },
    {
      "cell_type": "code",
      "metadata": {
        "id": "i2RKAUjxq2kG"
      },
      "source": [
        "input_friends = sc.textFile('friendsdata-201008-180523.csv')"
      ],
      "execution_count": 5,
      "outputs": []
    },
    {
      "cell_type": "code",
      "metadata": {
        "id": "pPhPkW4IuiyF"
      },
      "source": [
        "def parseline(line):\n",
        "  fields = line.split(\"::\")\n",
        "  age = int(fields[2])\n",
        "  num_connections = int(fields[3])\n",
        "  return(age, num_connections)\n"
      ],
      "execution_count": 8,
      "outputs": []
    },
    {
      "cell_type": "code",
      "metadata": {
        "id": "FdLTj0_1t1c5"
      },
      "source": [
        "rdd_friends = input_friends.map(parseline)"
      ],
      "execution_count": 9,
      "outputs": []
    },
    {
      "cell_type": "code",
      "metadata": {
        "colab": {
          "base_uri": "https://localhost:8080/"
        },
        "id": "VDEyXTEzuS7w",
        "outputId": "942b4fd1-0d2f-4643-f1b4-059d22dea6a9"
      },
      "source": [
        "rdd_friends.take(3)"
      ],
      "execution_count": 10,
      "outputs": [
        {
          "output_type": "execute_result",
          "data": {
            "text/plain": [
              "[(33, 385), (26, 2), (55, 221)]"
            ]
          },
          "metadata": {},
          "execution_count": 10
        }
      ]
    },
    {
      "cell_type": "code",
      "metadata": {
        "id": "HZ5EdMrkuVGr"
      },
      "source": [
        "rdd_friends2 = rdd_friends.mapValues(lambda x:(x,1)).reduceByKey(lambda x,y:(x[0]+y[0], x[1]+y[1]))"
      ],
      "execution_count": 31,
      "outputs": []
    },
    {
      "cell_type": "code",
      "metadata": {
        "id": "egA4WahZz1WZ"
      },
      "source": [
        "rdd_friends3 = rdd_friends2.mapValues(lambda x: (x[0]//x[1])).sortBy(lambda x:x[1])"
      ],
      "execution_count": 32,
      "outputs": []
    },
    {
      "cell_type": "code",
      "metadata": {
        "colab": {
          "base_uri": "https://localhost:8080/"
        },
        "id": "K3T_QBtEz4Ad",
        "outputId": "430ed00a-04e8-4c4a-c821-8f46c6c09745"
      },
      "source": [
        "for i in rdd_friends3.collect():\n",
        "  print(i)"
      ],
      "execution_count": 33,
      "outputs": [
        {
          "output_type": "stream",
          "name": "stdout",
          "text": [
            "(58, 116)\n",
            "(20, 165)\n",
            "(39, 169)\n",
            "(49, 184)\n",
            "(38, 193)\n",
            "(25, 197)\n",
            "(60, 202)\n",
            "(22, 206)\n",
            "(32, 207)\n",
            "(28, 209)\n",
            "(35, 211)\n",
            "(19, 213)\n",
            "(67, 214)\n",
            "(29, 215)\n",
            "(62, 220)\n",
            "(59, 220)\n",
            "(53, 222)\n",
            "(46, 223)\n",
            "(27, 228)\n",
            "(43, 230)\n",
            "(24, 233)\n",
            "(47, 233)\n",
            "(30, 235)\n",
            "(69, 235)\n",
            "(26, 242)\n",
            "(34, 245)\n",
            "(36, 246)\n",
            "(23, 246)\n",
            "(37, 249)\n",
            "(40, 250)\n",
            "(50, 254)\n",
            "(61, 256)\n",
            "(57, 258)\n",
            "(31, 267)\n",
            "(41, 268)\n",
            "(68, 269)\n",
            "(66, 276)\n",
            "(54, 278)\n",
            "(48, 281)\n",
            "(64, 281)\n",
            "(44, 282)\n",
            "(55, 295)\n",
            "(65, 298)\n",
            "(51, 302)\n",
            "(42, 303)\n",
            "(56, 306)\n",
            "(45, 309)\n",
            "(33, 325)\n",
            "(52, 340)\n",
            "(18, 343)\n",
            "(21, 350)\n",
            "(63, 384)\n"
          ]
        }
      ]
    },
    {
      "cell_type": "code",
      "metadata": {
        "id": "WpjQ12yn1aqu"
      },
      "source": [
        ""
      ],
      "execution_count": null,
      "outputs": []
    }
  ]
}